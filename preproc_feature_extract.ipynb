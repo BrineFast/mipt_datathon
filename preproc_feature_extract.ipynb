{
 "cells": [
  {
   "cell_type": "code",
   "execution_count": 1,
   "id": "262f23d1",
   "metadata": {},
   "outputs": [],
   "source": [
    "import pandas as pd\n",
    "import re"
   ]
  },
  {
   "cell_type": "code",
   "execution_count": 2,
   "id": "93babb7f",
   "metadata": {},
   "outputs": [],
   "source": [
    "df_1 = pd.read_csv(r'C:\\Users\\User\\PycharmProjects\\telegramm_parser/Data jobs feed.csv',  encoding='utf-8-sig')\n",
    "df_2 = pd.read_csv(r'C:\\Users\\User\\PycharmProjects\\telegramm_parser/Data Science Jobs  AI  NN  ML  DL  NLP.csv',  encoding='utf-8-sig')"
   ]
  },
  {
   "cell_type": "code",
   "execution_count": 3,
   "id": "31b35dd0",
   "metadata": {},
   "outputs": [],
   "source": [
    "df_1.drop_duplicates(subset = 'Input_String', inplace = True)\n",
    "df_2.drop_duplicates(subset = 'Input_String', inplace = True)"
   ]
  },
  {
   "cell_type": "code",
   "execution_count": 4,
   "id": "fa7818ed",
   "metadata": {},
   "outputs": [],
   "source": [
    "def regex_pack():\n",
    "    expirence_reg = re.compile('знания|основ|Опыт|Умение|Знаешь|Умение|Знать|знание', re.IGNORECASE)\n",
    "    location_reg =  re.compile('📍Локация|город|Location', re.IGNORECASE)\n",
    "    level_pothishion =  re.compile('Junior|Middle|Senior', re.IGNORECASE)\n",
    "    pothishion_regex =  re.compile('Позиция|вакансия', re.IGNORECASE)\n",
    "    money =  re.compile('ЗП|вилка', re.IGNORECASE)\n",
    "    regexes = {\n",
    "    \"Expirence\": expirence_reg,\n",
    "    \"Location\": location_reg,\n",
    "    \"level_position\": level_pothishion,\n",
    "    \"position_regex\": pothishion_regex,\n",
    "    \"money\": money\n",
    "    }\n",
    "    return regexes"
   ]
  },
  {
   "cell_type": "code",
   "execution_count": 5,
   "id": "990eff51",
   "metadata": {},
   "outputs": [],
   "source": [
    "regex_dict = regex_pack()"
   ]
  },
  {
   "cell_type": "code",
   "execution_count": 6,
   "id": "77cf383c",
   "metadata": {},
   "outputs": [],
   "source": [
    "def feature_extract(df):\n",
    "    out_list = []\n",
    "    for col in df['Input_String']:\n",
    "        string_split = str(col).split('\\n')\n",
    "        dcit_out = regex_dict.fromkeys(regex_dict, 0)\n",
    "        for i in  string_split:\n",
    "            space_split = str(i).split('\\t')\n",
    "            for space_i in space_split:\n",
    "                for k, v in regex_dict.items():\n",
    "                    if v.findall(space_i):\n",
    "                        dcit_out[k] = space_i                           \n",
    "        out_list.append(dcit_out)\n",
    "    out_df = pd.DataFrame.from_records(out_list)\n",
    "    out_df['Input_String'] = df['Input_String']\n",
    "    return(out_df)"
   ]
  },
  {
   "cell_type": "code",
   "execution_count": 7,
   "id": "f53a93fc",
   "metadata": {},
   "outputs": [],
   "source": [
    "def statistics_print(df):\n",
    "    print('Количество всех значений ', len(df))\n",
    "    for i in df.columns:\n",
    "        print('Количество нулевых значений:' ,( df[i].value_counts()[0]),\n",
    "              '--' , i,\n",
    "             '| Процент: ', float('{:.3f}'.format((df[i].value_counts()[0] / len(df)))))"
   ]
  },
  {
   "cell_type": "code",
   "execution_count": 8,
   "id": "57249bc8",
   "metadata": {},
   "outputs": [
    {
     "name": "stdout",
     "output_type": "stream",
     "text": [
      "Количество всех значений  1090\n",
      "Количество нулевых значений: 211 -- Expirence | Процент:  0.194\n",
      "Количество нулевых значений: 772 -- Location | Процент:  0.708\n",
      "Количество нулевых значений: 667 -- level_position | Процент:  0.612\n",
      "Количество нулевых значений: 310 -- position_regex | Процент:  0.284\n",
      "Количество нулевых значений: 594 -- money | Процент:  0.545\n",
      "Количество нулевых значений: 1 -- Input_String | Процент:  0.001\n"
     ]
    }
   ],
   "source": [
    "df_feature_1  = feature_extract(df_1)\n",
    "statistics_print(df_feature_1)"
   ]
  },
  {
   "cell_type": "code",
   "execution_count": 9,
   "id": "04710670",
   "metadata": {},
   "outputs": [
    {
     "name": "stdout",
     "output_type": "stream",
     "text": [
      "Количество всех значений  839\n",
      "Количество нулевых значений: 194 -- Expirence | Процент:  0.231\n",
      "Количество нулевых значений: 660 -- Location | Процент:  0.787\n",
      "Количество нулевых значений: 509 -- level_position | Процент:  0.607\n",
      "Количество нулевых значений: 387 -- position_regex | Процент:  0.461\n",
      "Количество нулевых значений: 514 -- money | Процент:  0.613\n",
      "Количество нулевых значений: 1 -- Input_String | Процент:  0.001\n"
     ]
    }
   ],
   "source": [
    "df_feature_2  = feature_extract(df_2)\n",
    "statistics_print(df_feature_2)"
   ]
  },
  {
   "cell_type": "code",
   "execution_count": 10,
   "id": "bbcbd471",
   "metadata": {},
   "outputs": [
    {
     "data": {
      "text/html": [
       "<div>\n",
       "<style scoped>\n",
       "    .dataframe tbody tr th:only-of-type {\n",
       "        vertical-align: middle;\n",
       "    }\n",
       "\n",
       "    .dataframe tbody tr th {\n",
       "        vertical-align: top;\n",
       "    }\n",
       "\n",
       "    .dataframe thead th {\n",
       "        text-align: right;\n",
       "    }\n",
       "</style>\n",
       "<table border=\"1\" class=\"dataframe\">\n",
       "  <thead>\n",
       "    <tr style=\"text-align: right;\">\n",
       "      <th></th>\n",
       "      <th>Expirence</th>\n",
       "      <th>Location</th>\n",
       "      <th>level_position</th>\n",
       "      <th>position_regex</th>\n",
       "      <th>money</th>\n",
       "      <th>Input_String</th>\n",
       "    </tr>\n",
       "  </thead>\n",
       "  <tbody>\n",
       "    <tr>\n",
       "      <th>0</th>\n",
       "      <td>🔸Имеешь опыт работы с крупными задачами: деком...</td>\n",
       "      <td>0</td>\n",
       "      <td>🔸Senior Machine Learning Engineer🔸</td>\n",
       "      <td>🔸Имеешь опыт работы с крупными задачами: деком...</td>\n",
       "      <td>ЗП: 4000 - 6000$</td>\n",
       "      <td>#вакансия #gamedev #релокация #ml #remote\\n\\n🔸...</td>\n",
       "    </tr>\n",
       "    <tr>\n",
       "      <th>1</th>\n",
       "      <td>0</td>\n",
       "      <td>- Help with relocation and an apartment for th...</td>\n",
       "      <td>Apply here: https://zerosystems.rippling-ats.c...</td>\n",
       "      <td>0</td>\n",
       "      <td>0</td>\n",
       "      <td>Company: ZERO\\nLevel: Middle/Senior ML/NLP Eng...</td>\n",
       "    </tr>\n",
       "    <tr>\n",
       "      <th>2</th>\n",
       "      <td>0</td>\n",
       "      <td>0</td>\n",
       "      <td>0</td>\n",
       "      <td>0</td>\n",
       "      <td>0</td>\n",
       "      <td>💻 Навык работы с большими данными открывает пу...</td>\n",
       "    </tr>\n",
       "    <tr>\n",
       "      <th>3</th>\n",
       "      <td>3. System Design интервью на основе реального ...</td>\n",
       "      <td>0</td>\n",
       "      <td>Позиция: Senior Data Engineer</td>\n",
       "      <td>Позиция: Senior Data Engineer</td>\n",
       "      <td>Вилка: 250-300 тыс. руб. net</td>\n",
       "      <td>Позиция: Senior Data Engineer\\nКомпания: Drom....</td>\n",
       "    </tr>\n",
       "    <tr>\n",
       "      <th>4</th>\n",
       "      <td>— Релевантный опыт работы от 3 лет</td>\n",
       "      <td>Компания: КБ Стрелка — международная компания,...</td>\n",
       "      <td>0</td>\n",
       "      <td>Вакансия: Data Analyst / Аналитик данных</td>\n",
       "      <td>0</td>\n",
       "      <td>#вакансия #москва #DataAnalysis #qgis\\n\\nВакан...</td>\n",
       "    </tr>\n",
       "    <tr>\n",
       "      <th>...</th>\n",
       "      <td>...</td>\n",
       "      <td>...</td>\n",
       "      <td>...</td>\n",
       "      <td>...</td>\n",
       "      <td>...</td>\n",
       "      <td>...</td>\n",
       "    </tr>\n",
       "    <tr>\n",
       "      <th>834</th>\n",
       "      <td>0</td>\n",
       "      <td>Решаем кейс от Главного контрольного управлени...</td>\n",
       "      <td>0</td>\n",
       "      <td>0</td>\n",
       "      <td>0</td>\n",
       "      <td>🔥Ищем в команду: “Senior Big Data Engineer”\\n🗺...</td>\n",
       "    </tr>\n",
       "    <tr>\n",
       "      <th>835</th>\n",
       "      <td>Python + опыт работы с одним из фреймворков дл...</td>\n",
       "      <td>0</td>\n",
       "      <td>Middle Deep Learning Engineer</td>\n",
       "      <td>#вакансия #спб #работа #fulltime</td>\n",
       "      <td>Оформление по ТК, белая ЗП</td>\n",
       "      <td>#вакансия #ml #fulltime #remote #удаленка \\n\\n...</td>\n",
       "    </tr>\n",
       "    <tr>\n",
       "      <th>836</th>\n",
       "      <td>- разработка сопровождающих backend-приложений...</td>\n",
       "      <td>Город: Москва, метро Деловой центр, Москоу-сити</td>\n",
       "      <td>0</td>\n",
       "      <td>#вакансия #devops #Москва #fultime #удаленка #...</td>\n",
       "      <td>Зп: 100k-150k на руки</td>\n",
       "      <td>#vacancy #Dataengineer #python #buisnessanalys...</td>\n",
       "    </tr>\n",
       "    <tr>\n",
       "      <th>837</th>\n",
       "      <td>🔷 Задач много, есть где развернуться и поучить...</td>\n",
       "      <td>🗺 Город: Москва(Москва Сити)</td>\n",
       "      <td>0</td>\n",
       "      <td>#вакансия #python #fulltime #Москва #офис #уда...</td>\n",
       "      <td>⁃ ЗП вилка 150-200 к на руки, все белое</td>\n",
       "      <td>#вакансия #удаленка #спикер\\n\\nТы эксперт по D...</td>\n",
       "    </tr>\n",
       "    <tr>\n",
       "      <th>838</th>\n",
       "      <td>Опыт разработки на C++.</td>\n",
       "      <td>0</td>\n",
       "      <td>0</td>\n",
       "      <td>#вакансия #санкт_петербург #питер #ML #Machine...</td>\n",
       "      <td>0</td>\n",
       "      <td>#vacancy #Dataengineer #python #buisnessanalys...</td>\n",
       "    </tr>\n",
       "  </tbody>\n",
       "</table>\n",
       "<p>839 rows × 6 columns</p>\n",
       "</div>"
      ],
      "text/plain": [
       "                                             Expirence  \\\n",
       "0    🔸Имеешь опыт работы с крупными задачами: деком...   \n",
       "1                                                    0   \n",
       "2                                                    0   \n",
       "3    3. System Design интервью на основе реального ...   \n",
       "4                   — Релевантный опыт работы от 3 лет   \n",
       "..                                                 ...   \n",
       "834                                                  0   \n",
       "835  Python + опыт работы с одним из фреймворков дл...   \n",
       "836  - разработка сопровождающих backend-приложений...   \n",
       "837  🔷 Задач много, есть где развернуться и поучить...   \n",
       "838                            Опыт разработки на C++.   \n",
       "\n",
       "                                              Location  \\\n",
       "0                                                    0   \n",
       "1    - Help with relocation and an apartment for th...   \n",
       "2                                                    0   \n",
       "3                                                    0   \n",
       "4    Компания: КБ Стрелка — международная компания,...   \n",
       "..                                                 ...   \n",
       "834  Решаем кейс от Главного контрольного управлени...   \n",
       "835                                                  0   \n",
       "836    Город: Москва, метро Деловой центр, Москоу-сити   \n",
       "837                       🗺 Город: Москва(Москва Сити)   \n",
       "838                                                  0   \n",
       "\n",
       "                                        level_position  \\\n",
       "0                   🔸Senior Machine Learning Engineer🔸   \n",
       "1    Apply here: https://zerosystems.rippling-ats.c...   \n",
       "2                                                    0   \n",
       "3                        Позиция: Senior Data Engineer   \n",
       "4                                                    0   \n",
       "..                                                 ...   \n",
       "834                                                  0   \n",
       "835                      Middle Deep Learning Engineer   \n",
       "836                                                  0   \n",
       "837                                                  0   \n",
       "838                                                  0   \n",
       "\n",
       "                                        position_regex  \\\n",
       "0    🔸Имеешь опыт работы с крупными задачами: деком...   \n",
       "1                                                    0   \n",
       "2                                                    0   \n",
       "3                        Позиция: Senior Data Engineer   \n",
       "4            Вакансия: Data Analyst / Аналитик данных    \n",
       "..                                                 ...   \n",
       "834                                                  0   \n",
       "835                   #вакансия #спб #работа #fulltime   \n",
       "836  #вакансия #devops #Москва #fultime #удаленка #...   \n",
       "837  #вакансия #python #fulltime #Москва #офис #уда...   \n",
       "838  #вакансия #санкт_петербург #питер #ML #Machine...   \n",
       "\n",
       "                                        money  \\\n",
       "0                            ЗП: 4000 - 6000$   \n",
       "1                                           0   \n",
       "2                                           0   \n",
       "3              Вилка: 250-300 тыс. руб. net     \n",
       "4                                           0   \n",
       "..                                        ...   \n",
       "834                                         0   \n",
       "835                Оформление по ТК, белая ЗП   \n",
       "836                    Зп: 100k-150k на руки    \n",
       "837   ⁃ ЗП вилка 150-200 к на руки, все белое   \n",
       "838                                         0   \n",
       "\n",
       "                                          Input_String  \n",
       "0    #вакансия #gamedev #релокация #ml #remote\\n\\n🔸...  \n",
       "1    Company: ZERO\\nLevel: Middle/Senior ML/NLP Eng...  \n",
       "2    💻 Навык работы с большими данными открывает пу...  \n",
       "3    Позиция: Senior Data Engineer\\nКомпания: Drom....  \n",
       "4    #вакансия #москва #DataAnalysis #qgis\\n\\nВакан...  \n",
       "..                                                 ...  \n",
       "834  🔥Ищем в команду: “Senior Big Data Engineer”\\n🗺...  \n",
       "835  #вакансия #ml #fulltime #remote #удаленка \\n\\n...  \n",
       "836  #vacancy #Dataengineer #python #buisnessanalys...  \n",
       "837  #вакансия #удаленка #спикер\\n\\nТы эксперт по D...  \n",
       "838  #vacancy #Dataengineer #python #buisnessanalys...  \n",
       "\n",
       "[839 rows x 6 columns]"
      ]
     },
     "execution_count": 10,
     "metadata": {},
     "output_type": "execute_result"
    }
   ],
   "source": [
    "df_feature_2"
   ]
  },
  {
   "cell_type": "code",
   "execution_count": 11,
   "id": "d2f441ce",
   "metadata": {},
   "outputs": [],
   "source": [
    "df_feature_out = pd.concat([df_feature_1, df_feature_2 ])"
   ]
  },
  {
   "cell_type": "code",
   "execution_count": 12,
   "id": "902b3223",
   "metadata": {},
   "outputs": [
    {
     "name": "stdout",
     "output_type": "stream",
     "text": [
      "Количество всех значений  1929\n",
      "Количество нулевых значений: 405 -- Expirence | Процент:  0.21\n",
      "Количество нулевых значений: 1432 -- Location | Процент:  0.742\n",
      "Количество нулевых значений: 1176 -- level_position | Процент:  0.61\n",
      "Количество нулевых значений: 697 -- position_regex | Процент:  0.361\n",
      "Количество нулевых значений: 1108 -- money | Процент:  0.574\n",
      "Количество нулевых значений: 2 -- Input_String | Процент:  0.001\n"
     ]
    }
   ],
   "source": [
    "df_feature_out\n",
    "statistics_print(df_feature_out)"
   ]
  },
  {
   "cell_type": "code",
   "execution_count": 13,
   "id": "b4b5f85b",
   "metadata": {},
   "outputs": [],
   "source": [
    "df_feature_out.to_csv(r'C:\\Users\\User\\PycharmProjects\\telegramm_parser/data_feature.csv', index = False)"
   ]
  },
  {
   "cell_type": "code",
   "execution_count": null,
   "id": "79e4ac6a",
   "metadata": {},
   "outputs": [],
   "source": []
  }
 ],
 "metadata": {
  "kernelspec": {
   "display_name": "Python 3 (ipykernel)",
   "language": "python",
   "name": "python3"
  },
  "language_info": {
   "codemirror_mode": {
    "name": "ipython",
    "version": 3
   },
   "file_extension": ".py",
   "mimetype": "text/x-python",
   "name": "python",
   "nbconvert_exporter": "python",
   "pygments_lexer": "ipython3",
   "version": "3.9.13"
  }
 },
 "nbformat": 4,
 "nbformat_minor": 5
}
