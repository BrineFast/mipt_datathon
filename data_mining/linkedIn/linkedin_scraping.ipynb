{
 "cells": [
  {
   "cell_type": "code",
   "execution_count": 126,
   "id": "c3841c20",
   "metadata": {},
   "outputs": [],
   "source": [
    "from selenium import webdriver\n",
    "import time\n",
    "import pandas as pd\n",
    "import numpy as np"
   ]
  },
  {
   "cell_type": "code",
   "execution_count": 171,
   "id": "99150743",
   "metadata": {},
   "outputs": [],
   "source": [
    "url = 'https://www.linkedin.com/jobs/search?keywords=Data%20Scientist&location=Russia&geoId=101728296&trk=public_jobs_jobs-search-bar_search-submit&position=1&pageNum=0'\n",
    "#url = 'https://www.linkedin.com/jobs/search?keywords=Machine%20Learning&location=Russia&position=1&pageNum=0'\n",
    "#url = 'https://www.linkedin.com/jobs/search?keywords=Artificial%20Intelligence&location=Russia&position=1&pageNum=0'"
   ]
  },
  {
   "cell_type": "code",
   "execution_count": 172,
   "id": "815738c3",
   "metadata": {},
   "outputs": [],
   "source": [
    "wd = webdriver.Chrome(executable_path='./chromedriver.exe')\n",
    "wd.get(url)"
   ]
  },
  {
   "cell_type": "code",
   "execution_count": 173,
   "id": "2b6b254c",
   "metadata": {},
   "outputs": [],
   "source": [
    "no_of_jobs = int(wd.find_element_by_css_selector('h1>span').get_attribute('innerText'))"
   ]
  },
  {
   "cell_type": "code",
   "execution_count": 174,
   "id": "681f9b2a",
   "metadata": {},
   "outputs": [
    {
     "name": "stdout",
     "output_type": "stream",
     "text": [
      "104\n"
     ]
    }
   ],
   "source": [
    "print(no_of_jobs)"
   ]
  },
  {
   "cell_type": "code",
   "execution_count": 175,
   "id": "85f0a32c",
   "metadata": {},
   "outputs": [],
   "source": [
    "i = 2\n",
    "while i <= int(no_of_jobs/25)+1: \n",
    "    wd.execute_script(\"window.scrollTo(0, document.body.scrollHeight);\")\n",
    "    i = i + 1\n",
    "    try:\n",
    "        wd.find_element_by_xpath('/html/body/div/div/main/section[2]/button').click()\n",
    "        time.sleep(10)\n",
    "    except:\n",
    "        pass\n",
    "        time.sleep(10)"
   ]
  },
  {
   "cell_type": "code",
   "execution_count": 176,
   "id": "ea29b501",
   "metadata": {},
   "outputs": [],
   "source": [
    "job_lists = wd.find_element_by_class_name('jobs-search__results-list')\n",
    "jobs = job_lists.find_elements_by_tag_name('li') # return a list"
   ]
  },
  {
   "cell_type": "code",
   "execution_count": 178,
   "id": "b72a37e9",
   "metadata": {},
   "outputs": [],
   "source": [
    "job_id= []\n",
    "job_title = []\n",
    "company_name = []\n",
    "location = []\n",
    "date = []\n",
    "job_link = []\n",
    "for job in jobs:\n",
    "    job_id0 = job.get_attribute('data-id')\n",
    "    job_id.append(job_id0)\n",
    " \n",
    "    job_title0 = job.find_element_by_css_selector('h3').get_attribute('innerText')\n",
    "    job_title.append(job_title0)\n",
    " \n",
    "    company_name0 = job.find_element_by_css_selector('h4').get_attribute('innerText')\n",
    "    company_name.append(company_name0)\n",
    " \n",
    "    location0 = job.find_element_by_css_selector('[class=\"job-search-card__location\"]').get_attribute('innerText')\n",
    "    location.append(location0)\n",
    " \n",
    "    date0 = job.find_element_by_css_selector('div>div>time').get_attribute('datetime')\n",
    "    date.append(date0)\n",
    " \n",
    "    job_link0 = job.find_element_by_css_selector('a').get_attribute('href')\n",
    "    job_link.append(job_link0)"
   ]
  },
  {
   "cell_type": "code",
   "execution_count": 180,
   "id": "602453d7",
   "metadata": {},
   "outputs": [],
   "source": [
    "jd = []\n",
    "seniority = []\n",
    "emp_type = []\n",
    "job_func = []\n",
    "industries = []\n",
    "for item in range(len(jobs)):\n",
    "    job_func0=[]\n",
    "    industries0=[]\n",
    "    # clicking job to view job details\n",
    "    job_click_path = f'/html/body/div/div/main/section[2]/ul/li[{item+1}]/div/a'\n",
    "    try:\n",
    "        job_click = job.find_element_by_xpath(job_click_path).click()\n",
    "    except:\n",
    "        print(\"Something went wrong\")\n",
    "    finally:\n",
    "        time.sleep(10)\n",
    " \n",
    "    jd_path = '/html/body/div/div/section/div[2]/div/section/div/div[2]/section/div'\n",
    "    try:\n",
    "        jd0 = job.find_element_by_xpath(jd_path).get_attribute('innerText')       \n",
    "    except:\n",
    "        jd.append(' ')\n",
    "    else:\n",
    "        jd.append(jd0)\n",
    " \n",
    "    seniority_path = '/html/body/div/div/section/div[2]/div/section/div/ul/li[1]/span'\n",
    "    try: \n",
    "        seniority0 = job.find_element_by_xpath(seniority_path).get_attribute('innerText')\n",
    "    except:\n",
    "        seniority.append(' ')\n",
    "    else:\n",
    "        seniority.append(seniority0)\n",
    " \n",
    "    emp_type_path = '/html/body/div/div/section/div[2]/div/section/div/ul/li[2]/span'\n",
    "    try: \n",
    "        emp_type0 = job.find_element_by_xpath(emp_type_path).get_attribute('innerText')\n",
    "    except:\n",
    "        emp_type.append(' ')\n",
    "    else: \n",
    "        emp_type.append(emp_type0)\n",
    "\n",
    "    job_func_path = '/html/body/div/div/section/div[2]/div/section/div/ul/li[3]/span'\n",
    "    try: \n",
    "        job_func_elements = job.find_elements_by_xpath(job_func_path)\n",
    "    except:\n",
    "        job_func.append(\"\")\n",
    "    else:\n",
    "        for element in job_func_elements:\n",
    "            job_func0.append(element.get_attribute('innerText'))\n",
    "            job_func_final = ', '.join(job_func0)\n",
    "        job_func.append(job_func_final)\n",
    " \n",
    "    industries_path = '/html/body/div/div/section/div[2]/div/section/div/ul/li[4]/span'\n",
    "    try:\n",
    "        industries_elements = job.find_elements_by_xpath(industries_path)\n",
    "    except:\n",
    "        industries.append(' ')\n",
    "    else:\n",
    "        for element in industries_elements:\n",
    "            industries0.append(element.get_attribute('innerText'))\n",
    "            industries_final = ', '.join(industries0)\n",
    "        industries.append(industries_final)\n"
   ]
  },
  {
   "cell_type": "code",
   "execution_count": 182,
   "id": "5861a371",
   "metadata": {},
   "outputs": [],
   "source": [
    "job_data = pd.DataFrame({'ID': job_id,\n",
    "'Date': date,\n",
    "'Company': company_name,\n",
    "'Title': job_title,\n",
    "'Location': location,\n",
    "'Description': jd,\n",
    "'Level': seniority,\n",
    "'Type': emp_type,\n",
    "'Function': job_func,\n",
    "'Industry': industries,\n",
    "'Link': job_link\n",
    "})\n",
    "# cleaning description column\n",
    "job_data['Description'] = job_data['Description'].str.replace('\\n',' ')\n",
    "job_data.to_csv('LinkedIn Job Data_Data Scientist.csv', encoding='utf-8', index = False)\n",
    "#job_data.to_csv('LinkedIn Job Data_AI.csv', encoding='utf-8', index = False)"
   ]
  },
  {
   "cell_type": "code",
   "execution_count": null,
   "id": "91146a6a",
   "metadata": {},
   "outputs": [],
   "source": []
  }
 ],
 "metadata": {
  "kernelspec": {
   "display_name": "Python 3 (ipykernel)",
   "language": "python",
   "name": "python3"
  },
  "language_info": {
   "codemirror_mode": {
    "name": "ipython",
    "version": 3
   },
   "file_extension": ".py",
   "mimetype": "text/x-python",
   "name": "python",
   "nbconvert_exporter": "python",
   "pygments_lexer": "ipython3",
   "version": "3.9.12"
  }
 },
 "nbformat": 4,
 "nbformat_minor": 5
}
